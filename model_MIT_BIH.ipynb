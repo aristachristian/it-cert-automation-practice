{
  "nbformat": 4,
  "nbformat_minor": 0,
  "metadata": {
    "colab": {
      "name": "model_MIT_BIH.ipynb",
      "provenance": [],
      "collapsed_sections": [],
      "mount_file_id": "1CvkfDeX85q5aCnxDWtr7tVTNyKYy406q",
      "authorship_tag": "ABX9TyO0U5niMP39RsBz0GIJrVRD",
      "include_colab_link": true
    },
    "kernelspec": {
      "name": "python3",
      "display_name": "Python 3"
    },
    "language_info": {
      "name": "python"
    }
  },
  "cells": [
    {
      "cell_type": "markdown",
      "metadata": {
        "id": "view-in-github",
        "colab_type": "text"
      },
      "source": [
        "<a href=\"https://colab.research.google.com/github/aristachristian/it-cert-automation-practice/blob/master/model_MIT_BIH.ipynb\" target=\"_parent\"><img src=\"https://colab.research.google.com/assets/colab-badge.svg\" alt=\"Open In Colab\"/></a>"
      ]
    },
    {
      "cell_type": "code",
      "metadata": {
        "id": "L_bjeS_JRCdw"
      },
      "source": [
        "#https://github.com/physhik/ecg-mit-bih\n",
        "from google.colab import drive\n",
        "\n",
        "drive.mount('/content/drive')"
      ],
      "execution_count": null,
      "outputs": []
    },
    {
      "cell_type": "code",
      "metadata": {
        "colab": {
          "base_uri": "https://localhost:8080/"
        },
        "id": "qdi5Ghq2RE6e",
        "outputId": "43b12b39-56b9-40ce-f1f2-3cff8b8648d5"
      },
      "source": [
        "import os\n",
        "\n",
        "datasetPath = \"./drive/MyDrive/Colab Notebooks/Tugas Akhir/Diagnosis Aritmia/mitbih_database/Signal\"\n",
        "os.listdir(datasetPath)"
      ],
      "execution_count": null,
      "outputs": [
        {
          "output_type": "execute_result",
          "data": {
            "text/plain": [
              "['100.csv',\n",
              " '101.csv',\n",
              " '103.csv',\n",
              " '102.csv',\n",
              " '104.csv',\n",
              " '106.csv',\n",
              " '105.csv',\n",
              " '107.csv',\n",
              " '109.csv',\n",
              " '108.csv',\n",
              " '112.csv',\n",
              " '111.csv',\n",
              " '113.csv',\n",
              " '114.csv',\n",
              " '115.csv',\n",
              " '117.csv',\n",
              " '116.csv',\n",
              " '118.csv',\n",
              " '121.csv',\n",
              " '119.csv',\n",
              " '123.csv',\n",
              " '122.csv',\n",
              " '124.csv',\n",
              " '201.csv',\n",
              " '200.csv',\n",
              " '203.csv',\n",
              " '202.csv',\n",
              " '205.csv',\n",
              " '207.csv',\n",
              " '208.csv',\n",
              " '209.csv',\n",
              " '210.csv',\n",
              " '212.csv',\n",
              " '213.csv',\n",
              " '214.csv',\n",
              " '215.csv',\n",
              " '217.csv',\n",
              " '219.csv',\n",
              " '221.csv',\n",
              " '220.csv',\n",
              " '222.csv',\n",
              " '223.csv',\n",
              " '228.csv',\n",
              " '230.csv',\n",
              " '232.csv',\n",
              " '231.csv',\n",
              " '233.csv',\n",
              " '234.csv']"
            ]
          },
          "metadata": {
            "tags": []
          },
          "execution_count": 2
        }
      ]
    },
    {
      "cell_type": "code",
      "metadata": {
        "id": "lBHiEyJ5SJVo"
      },
      "source": [
        "import pandas as pd\n",
        "import numpy as np\n",
        "\n",
        "df = pd.read_csv(os.path.join(datasetPath, \"100.csv\"))\n",
        "gain = 200\n",
        "offset = 1024"
      ],
      "execution_count": null,
      "outputs": []
    },
    {
      "cell_type": "code",
      "metadata": {
        "id": "dFa1ei7QTAHQ"
      },
      "source": [
        "df[\"'MLII'\"] = (df[\"'MLII'\"] - offset) / gain"
      ],
      "execution_count": null,
      "outputs": []
    },
    {
      "cell_type": "code",
      "metadata": {
        "colab": {
          "base_uri": "https://localhost:8080/",
          "height": 424
        },
        "id": "9sLXiWOkO0BN",
        "outputId": "86e0922e-a31f-45e4-9ba0-b5868b7f7bcc"
      },
      "source": [
        "df"
      ],
      "execution_count": null,
      "outputs": [
        {
          "output_type": "execute_result",
          "data": {
            "text/html": [
              "<div>\n",
              "<style scoped>\n",
              "    .dataframe tbody tr th:only-of-type {\n",
              "        vertical-align: middle;\n",
              "    }\n",
              "\n",
              "    .dataframe tbody tr th {\n",
              "        vertical-align: top;\n",
              "    }\n",
              "\n",
              "    .dataframe thead th {\n",
              "        text-align: right;\n",
              "    }\n",
              "</style>\n",
              "<table border=\"1\" class=\"dataframe\">\n",
              "  <thead>\n",
              "    <tr style=\"text-align: right;\">\n",
              "      <th></th>\n",
              "      <th>'sample #'</th>\n",
              "      <th>'MLII'</th>\n",
              "      <th>'V5'</th>\n",
              "    </tr>\n",
              "  </thead>\n",
              "  <tbody>\n",
              "    <tr>\n",
              "      <th>0</th>\n",
              "      <td>0</td>\n",
              "      <td>-0.145</td>\n",
              "      <td>1011</td>\n",
              "    </tr>\n",
              "    <tr>\n",
              "      <th>1</th>\n",
              "      <td>1</td>\n",
              "      <td>-0.145</td>\n",
              "      <td>1011</td>\n",
              "    </tr>\n",
              "    <tr>\n",
              "      <th>2</th>\n",
              "      <td>2</td>\n",
              "      <td>-0.145</td>\n",
              "      <td>1011</td>\n",
              "    </tr>\n",
              "    <tr>\n",
              "      <th>3</th>\n",
              "      <td>3</td>\n",
              "      <td>-0.145</td>\n",
              "      <td>1011</td>\n",
              "    </tr>\n",
              "    <tr>\n",
              "      <th>4</th>\n",
              "      <td>4</td>\n",
              "      <td>-0.145</td>\n",
              "      <td>1011</td>\n",
              "    </tr>\n",
              "    <tr>\n",
              "      <th>...</th>\n",
              "      <td>...</td>\n",
              "      <td>...</td>\n",
              "      <td>...</td>\n",
              "    </tr>\n",
              "    <tr>\n",
              "      <th>649995</th>\n",
              "      <td>649995</td>\n",
              "      <td>-0.075</td>\n",
              "      <td>928</td>\n",
              "    </tr>\n",
              "    <tr>\n",
              "      <th>649996</th>\n",
              "      <td>649996</td>\n",
              "      <td>-0.445</td>\n",
              "      <td>942</td>\n",
              "    </tr>\n",
              "    <tr>\n",
              "      <th>649997</th>\n",
              "      <td>649997</td>\n",
              "      <td>-0.675</td>\n",
              "      <td>951</td>\n",
              "    </tr>\n",
              "    <tr>\n",
              "      <th>649998</th>\n",
              "      <td>649998</td>\n",
              "      <td>-0.765</td>\n",
              "      <td>957</td>\n",
              "    </tr>\n",
              "    <tr>\n",
              "      <th>649999</th>\n",
              "      <td>649999</td>\n",
              "      <td>-1.280</td>\n",
              "      <td>1024</td>\n",
              "    </tr>\n",
              "  </tbody>\n",
              "</table>\n",
              "<p>650000 rows × 3 columns</p>\n",
              "</div>"
            ],
            "text/plain": [
              "        'sample #'  'MLII'  'V5'\n",
              "0                0  -0.145  1011\n",
              "1                1  -0.145  1011\n",
              "2                2  -0.145  1011\n",
              "3                3  -0.145  1011\n",
              "4                4  -0.145  1011\n",
              "...            ...     ...   ...\n",
              "649995      649995  -0.075   928\n",
              "649996      649996  -0.445   942\n",
              "649997      649997  -0.675   951\n",
              "649998      649998  -0.765   957\n",
              "649999      649999  -1.280  1024\n",
              "\n",
              "[650000 rows x 3 columns]"
            ]
          },
          "metadata": {
            "tags": []
          },
          "execution_count": 30
        }
      ]
    },
    {
      "cell_type": "code",
      "metadata": {
        "id": "UnCx95snl-Ir",
        "colab": {
          "base_uri": "https://localhost:8080/",
          "height": 238
        },
        "outputId": "4870fa15-22e0-4310-abef-8330fd5d9d1b"
      },
      "source": [
        "import matplotlib.pyplot as plt\n",
        "\n",
        "plt.figure(figsize=(20, 5))\n",
        "plt.plot(df.loc[:2000, \"'MLII'\"])\n",
        "plt.show()"
      ],
      "execution_count": null,
      "outputs": [
        {
          "output_type": "display_data",
          "data": {
            "image/png": "[encoded data removed]",
            "text/plain": [
              "<Figure size 1440x360 with 1 Axes>"
            ]
          },
          "metadata": {
            "tags": [],
            "needs_background": "light"
          }
        }
      ]
    },
    {
      "cell_type": "code",
      "metadata": {
        "colab": {
          "base_uri": "https://localhost:8080/"
        },
        "id": "mXxi_4tgP_kB",
        "outputId": "b9acb2cb-70df-4021-ea9c-d7c15d0fec20"
      },
      "source": [
        "!pip3 install wfdb"
      ],
      "execution_count": null,
      "outputs": [
        {
          "output_type": "stream",
          "text": [
            "Collecting wfdb\n",
            "\u001b[?25l  Downloading https://files.pythonhosted.org/packages/11/be/d5572d9a8b779857f517306db178561c417456c76124cb4c9e7d234cf5a5/wfdb-3.3.0-py3-none-any.whl (125kB)\n",
            "\r\u001b[K     |██▋                             | 10kB 13.9MB/s eta 0:00:01\r\u001b[K     |█████▎                          | 20kB 17.9MB/s eta 0:00:01\r\u001b[K     |███████▉                        | 30kB 10.6MB/s eta 0:00:01\r\u001b[K     |██████████▌                     | 40kB 9.0MB/s eta 0:00:01\r\u001b[K     |█████████████                   | 51kB 5.5MB/s eta 0:00:01\r\u001b[K     |███████████████▊                | 61kB 6.1MB/s eta 0:00:01\r\u001b[K     |██████████████████▎             | 71kB 5.9MB/s eta 0:00:01\r\u001b[K     |█████████████████████           | 81kB 6.5MB/s eta 0:00:01\r\u001b[K     |███████████████████████▌        | 92kB 6.3MB/s eta 0:00:01\r\u001b[K     |██████████████████████████▏     | 102kB 6.8MB/s eta 0:00:01\r\u001b[K     |████████████████████████████▉   | 112kB 6.8MB/s eta 0:00:01\r\u001b[K     |███████████████████████████████▍| 122kB 6.8MB/s eta 0:00:01\r\u001b[K     |████████████████████████████████| 133kB 6.8MB/s \n",
            "\u001b[?25hRequirement already satisfied: pyparsing>=2.0.4 in /usr/local/lib/python3.7/dist-packages (from wfdb) (2.4.7)\n",
            "Requirement already satisfied: chardet>=3.0.0 in /usr/local/lib/python3.7/dist-packages (from wfdb) (3.0.4)\n",
            "Requirement already satisfied: scipy>=0.17.0 in /usr/local/lib/python3.7/dist-packages (from wfdb) (1.4.1)\n",
            "Requirement already satisfied: matplotlib>=2.0.0 in /usr/local/lib/python3.7/dist-packages (from wfdb) (3.2.2)\n",
            "Requirement already satisfied: pandas>=0.17.0 in /usr/local/lib/python3.7/dist-packages (from wfdb) (1.1.5)\n",
            "Requirement already satisfied: requests>=2.8.1 in /usr/local/lib/python3.7/dist-packages (from wfdb) (2.23.0)\n",
            "Collecting threadpoolctl>=1.0.0\n",
            "  Downloading https://files.pythonhosted.org/packages/f7/12/ec3f2e203afa394a149911729357aa48affc59c20e2c1c8297a60f33f133/threadpoolctl-2.1.0-py3-none-any.whl\n",
            "Requirement already satisfied: scikit-learn>=0.18 in /usr/local/lib/python3.7/dist-packages (from wfdb) (0.22.2.post1)\n",
            "Requirement already satisfied: joblib>=0.11 in /usr/local/lib/python3.7/dist-packages (from wfdb) (1.0.1)\n",
            "Requirement already satisfied: cycler>=0.10.0 in /usr/local/lib/python3.7/dist-packages (from wfdb) (0.10.0)\n",
            "Requirement already satisfied: pytz>=2017.2 in /usr/local/lib/python3.7/dist-packages (from wfdb) (2018.9)\n",
            "Requirement already satisfied: numpy>=1.10.1 in /usr/local/lib/python3.7/dist-packages (from wfdb) (1.19.5)\n",
            "Requirement already satisfied: idna>=2.2 in /usr/local/lib/python3.7/dist-packages (from wfdb) (2.10)\n",
            "Requirement already satisfied: urllib3>=1.22 in /usr/local/lib/python3.7/dist-packages (from wfdb) (1.24.3)\n",
            "Requirement already satisfied: kiwisolver>=1.1.0 in /usr/local/lib/python3.7/dist-packages (from wfdb) (1.3.1)\n",
            "Requirement already satisfied: python-dateutil>=2.4.2 in /usr/local/lib/python3.7/dist-packages (from wfdb) (2.8.1)\n",
            "Requirement already satisfied: certifi>=2016.8.2 in /usr/local/lib/python3.7/dist-packages (from wfdb) (2020.12.5)\n",
            "Requirement already satisfied: six in /usr/local/lib/python3.7/dist-packages (from cycler>=0.10.0->wfdb) (1.15.0)\n",
            "Installing collected packages: threadpoolctl, wfdb\n",
            "Successfully installed threadpoolctl-2.1.0 wfdb-3.3.0\n"
          ],
          "name": "stdout"
        }
      ]
    },
    {
      "cell_type": "code",
      "metadata": {
        "id": "DP6GodGxFUIr"
      },
      "source": [
        "import wfdb"
      ],
      "execution_count": null,
      "outputs": []
    }
  ]
}